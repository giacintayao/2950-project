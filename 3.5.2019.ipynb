{
 "cells": [
  {
   "cell_type": "code",
   "execution_count": 1,
   "metadata": {
    "collapsed": true
   },
   "outputs": [],
   "source": [
    "import numpy\n",
    "from collections import Counter\n",
    "from matplotlib import pyplot \n",
    "import re "
   ]
  },
  {
   "cell_type": "code",
   "execution_count": 8,
   "metadata": {},
   "outputs": [
    {
     "name": "stdout",
     "output_type": "stream",
     "text": [
      "[{'answers': 0}, {'answers': 5}]\n"
     ]
    },
    {
     "data": {
      "text/plain": [
       "487"
      ]
     },
     "execution_count": 8,
     "metadata": {},
     "output_type": "execute_result"
    }
   ],
   "source": [
    "posts=[]\n",
    "row_pattern = re.compile(\"AnswerCount=\\\"(\\d+)\\\"\")\n",
    "with open(\"stackoverflow_1000.xml\") as file_reader:\n",
    "    for line in file_reader:\n",
    "        row_match = row_pattern.search(line)\n",
    "        if row_match:\n",
    "            posts.append({ \"answers\": int(row_match.group(1))})\n",
    "            #print(row_match.group(1))\n",
    "print(posts[0:2])\n",
    "len(posts)"
   ]
  },
  {
   "cell_type": "code",
   "execution_count": 10,
   "metadata": {},
   "outputs": [
    {
     "name": "stdout",
     "output_type": "stream",
     "text": [
      "[0 5 1 1 1]\n"
     ]
    }
   ],
   "source": [
    "answer_counts = numpy.array([post[\"answers\"] for post in posts])\n",
    "print(answer_counts[:5])"
   ]
  },
  {
   "cell_type": "code",
   "execution_count": 11,
   "metadata": {},
   "outputs": [
    {
     "data": {
      "text/plain": [
       "0.88706365503080087"
      ]
     },
     "execution_count": 11,
     "metadata": {},
     "output_type": "execute_result"
    }
   ],
   "source": [
    "answer_counts.mean()"
   ]
  },
  {
   "cell_type": "code",
   "execution_count": 12,
   "metadata": {},
   "outputs": [
    {
     "data": {
      "text/plain": [
       "0.86814887274475161"
      ]
     },
     "execution_count": 12,
     "metadata": {},
     "output_type": "execute_result"
    }
   ],
   "source": [
    "answer_counts.var()"
   ]
  },
  {
   "cell_type": "code",
   "execution_count": 15,
   "metadata": {},
   "outputs": [
    {
     "data": {
      "text/plain": [
       "Counter({0: 187, 1: 205, 2: 70, 3: 18, 4: 3, 5: 3, 6: 1})"
      ]
     },
     "execution_count": 15,
     "metadata": {},
     "output_type": "execute_result"
    }
   ],
   "source": [
    "Counter(answer_counts)"
   ]
  },
  {
   "cell_type": "code",
   "execution_count": 14,
   "metadata": {},
   "outputs": [
    {
     "data": {
      "image/png": "[encoded data removed]",
      "text/plain": [
       "<matplotlib.figure.Figure at 0x112765588>"
      ]
     },
     "metadata": {},
     "output_type": "display_data"
    }
   ],
   "source": [
    "pyplot.hist(answer_counts, bins=range(0,7))\n",
    "pyplot.show()"
   ]
  },
  {
   "cell_type": "code",
   "execution_count": 25,
   "metadata": {},
   "outputs": [
    {
     "data": {
      "image/png": "[encoded data removed]",
      "text/plain": [
       "<matplotlib.figure.Figure at 0x1172509b0>"
      ]
     },
     "metadata": {},
     "output_type": "display_data"
    }
   ],
   "source": [
    "pyplot.figure(figsize=(10,6))\n",
    "\n",
    "pyplot.subplot(321) #3 rows, 2 columns, first one \n",
    "pyplot.hist(numpy.random.poisson(0.88,size=487), bins=range(0,7))\n",
    "\n",
    "\n",
    "pyplot.subplot(322) #3 rows, 2 columns, first one \n",
    "pyplot.hist(numpy.random.poisson(0.88,size=487), bins=range(0,7))\n",
    "\n",
    "\n",
    "pyplot.subplot(323)\n",
    "pyplot.hist(numpy.random.poisson(0.88,size=487), bins=range(0,7))\n",
    "\n",
    "\n",
    "pyplot.subplot(324)\n",
    "pyplot.hist(numpy.random.poisson(0.88,size=487), bins=range(0,7))\n",
    "\n",
    "\n",
    "pyplot.subplot(325)\n",
    "pyplot.hist(numpy.random.poisson(0.88,size=487), bins=range(0,7))\n",
    "\n",
    "\n",
    "pyplot.subplot(326)\n",
    "pyplot.hist(numpy.random.poisson(0.88,size=487), bins=range(0,7))\n",
    "\n",
    "pyplot.show()\n"
   ]
  },
  {
   "cell_type": "code",
   "execution_count": 26,
   "metadata": {},
   "outputs": [
    {
     "ename": "NameError",
     "evalue": "name 'comment_counts' is not defined",
     "output_type": "error",
     "traceback": [
      "\u001b[0;31m---------------------------------------------------------------------------\u001b[0m",
      "\u001b[0;31mNameError\u001b[0m                                 Traceback (most recent call last)",
      "\u001b[0;32m<ipython-input-26-9d1c6de87ecc>\u001b[0m in \u001b[0;36m<module>\u001b[0;34m()\u001b[0m\n\u001b[0;32m----> 1\u001b[0;31m \u001b[0mnumpy\u001b[0m\u001b[0;34m.\u001b[0m\u001b[0mmean\u001b[0m\u001b[0;34m(\u001b[0m\u001b[0mcomment_counts\u001b[0m\u001b[0;34m)\u001b[0m\u001b[0;34m\u001b[0m\u001b[0m\n\u001b[0m",
      "\u001b[0;31mNameError\u001b[0m: name 'comment_counts' is not defined"
     ]
    }
   ],
   "source": [
    "comment_counts\n",
    "numpy.mean(comment_counts)\n",
    "numpy.var(comment_counts)\n"
   ]
  },
  {
   "cell_type": "code",
   "execution_count": null,
   "metadata": {
    "collapsed": true
   },
   "outputs": [],
   "source": []
  }
 ],
 "metadata": {
  "kernelspec": {
   "display_name": "Python 3",
   "language": "python",
   "name": "python3"
  },
  "language_info": {
   "codemirror_mode": {
    "name": "ipython",
    "version": 3
   },
   "file_extension": ".py",
   "mimetype": "text/x-python",
   "name": "python",
   "nbconvert_exporter": "python",
   "pygments_lexer": "ipython3",
   "version": "3.6.1"
  }
 },
 "nbformat": 4,
 "nbformat_minor": 2
}
